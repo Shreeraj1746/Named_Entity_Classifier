{
 "cells": [
  {
   "cell_type": "code",
   "execution_count": 1,
   "metadata": {
    "collapsed": false
   },
   "outputs": [],
   "source": [
    "import nltk\n",
    "from nltk.corpus import state_union\n",
    "from nltk.tokenize import PunktSentenceTokenizer\n",
    "from nltk.metrics.scores import accuracy"
   ]
  },
  {
   "cell_type": "code",
   "execution_count": 2,
   "metadata": {
    "collapsed": false
   },
   "outputs": [
    {
     "data": {
      "text/plain": [
       "['Thirty-three', 'Scotty', 'did', 'not', 'go', 'back', ...]"
      ]
     },
     "execution_count": 2,
     "metadata": {},
     "output_type": "execute_result"
    }
   ],
   "source": [
    "from nltk.corpus import brown\n",
    "brown.words(categories='fiction')"
   ]
  },
  {
   "cell_type": "code",
   "execution_count": 3,
   "metadata": {
    "collapsed": false
   },
   "outputs": [],
   "source": [
    "# for label in brown.categories():\n",
    "#     print('Iteration for category {}'.format(label))\n",
    "#     for fileid in brown.fileids(categories=label):\n",
    "#         print('Iteration for FileId {}'.format(fileid))\n",
    "#         print(brown.words(fileids=fileid))"
   ]
  },
  {
   "cell_type": "code",
   "execution_count": 5,
   "metadata": {
    "collapsed": false
   },
   "outputs": [
    {
     "data": {
      "text/plain": [
       "True"
      ]
     },
     "execution_count": 5,
     "metadata": {},
     "output_type": "execute_result"
    }
   ],
   "source": [
    "# have nltk_data directory in home directory\n",
    "import os, os.path\n",
    "path = os.path.expanduser('~/nltk_data')\n",
    "if not os.path.exists(path):\n",
    "    os.mkdir(path)\n",
    "\n",
    "os.path.exists(path)\n",
    "\n",
    "import nltk.data\n",
    "path in nltk.data.path"
   ]
  },
  {
   "cell_type": "markdown",
   "metadata": {},
   "source": [
    "----\n",
    "Accuracy using Wiki Gold dataset\n",
    "----"
   ]
  },
  {
   "cell_type": "code",
   "execution_count": 6,
   "metadata": {
    "collapsed": false
   },
   "outputs": [],
   "source": [
    "with open(\"./wiki_gold.txt\", encoding=\"utf8\") as f:\n",
    "    raw_annotations = f.read()\n",
    "\n",
    "split_annotations = raw_annotations.split()\n",
    "\n",
    "# Amend class annotations to reflect Stanford's NERTagger\n",
    "for n,i in enumerate(split_annotations):\n",
    "    if i == \"I-PER\":\n",
    "        split_annotations[n] = \"PERSON\"\n",
    "    if i == \"I-ORG\":\n",
    "        split_annotations[n] = \"ORGANIZATION\"\n",
    "    if i == \"I-LOC\":\n",
    "        split_annotations[n] = \"LOCATION\"\n",
    "    if i == \"I-MISC\":\n",
    "        split_annotations[n] = \"MISC\"\n",
    "\n",
    "# Group NE data into tuples\n",
    "def group(lst, n):\n",
    "    for i in range(0, len(lst), n):\n",
    "        val = lst[i:i+n]\n",
    "        if len(val) == n:\n",
    "            yield tuple(val)\n",
    "\n",
    "reference_annotations = list(group(split_annotations, 2))\n",
    "pure_tokens = split_annotations[::2]"
   ]
  },
  {
   "cell_type": "code",
   "execution_count": 7,
   "metadata": {
    "collapsed": false
   },
   "outputs": [],
   "source": [
    "tagged_words = nltk.pos_tag(pure_tokens)\n",
    "nltk_unformatted_prediction = nltk.ne_chunk(tagged_words)"
   ]
  },
  {
   "cell_type": "code",
   "execution_count": 8,
   "metadata": {
    "collapsed": false
   },
   "outputs": [
    {
     "data": {
      "text/plain": [
       "nltk.tree.Tree"
      ]
     },
     "execution_count": 8,
     "metadata": {},
     "output_type": "execute_result"
    }
   ],
   "source": [
    "type(nltk_unformatted_prediction)"
   ]
  },
  {
   "cell_type": "code",
   "execution_count": 9,
   "metadata": {
    "collapsed": false
   },
   "outputs": [],
   "source": [
    "multiline_string = nltk.chunk.tree2conllstr(nltk_unformatted_prediction)\n",
    "listed_pos_and_ne = multiline_string.split()"
   ]
  },
  {
   "cell_type": "code",
   "execution_count": 10,
   "metadata": {
    "collapsed": false
   },
   "outputs": [],
   "source": [
    "#Convert prediction to multiline string and then to list (includes pos tags)\n",
    "multiline_string = nltk.chunk.tree2conllstr(nltk_unformatted_prediction)\n",
    "listed_pos_and_ne = multiline_string.split()\n",
    "\n",
    "# Delete pos tags and rename\n",
    "del listed_pos_and_ne[1::3]\n",
    "listed_ne = listed_pos_and_ne\n",
    "\n",
    "# Amend class annotations for consistency with reference_annotations\n",
    "for n,i in enumerate(listed_ne):\n",
    "    if i == \"B-PERSON\":\n",
    "        listed_ne[n] = \"PERSON\"\n",
    "    if i == \"I-PERSON\":\n",
    "        listed_ne[n] = \"PERSON\"    \n",
    "    if i == \"B-ORGANIZATION\":\n",
    "        listed_ne[n] = \"ORGANIZATION\"\n",
    "    if i == \"I-ORGANIZATION\":\n",
    "        listed_ne[n] = \"ORGANIZATION\"\n",
    "    if i == \"B-LOCATION\":\n",
    "        listed_ne[n] = \"LOCATION\"\n",
    "    if i == \"I-LOCATION\":\n",
    "        listed_ne[n] = \"LOCATION\"\n",
    "    if i == \"B-GPE\":\n",
    "        listed_ne[n] = \"LOCATION\"\n",
    "    if i == \"I-GPE\":\n",
    "        listed_ne[n] = \"LOCATION\"\n",
    "\n",
    "# Group prediction into tuples\n",
    "nltk_formatted_prediction = list(group(listed_ne, 2))\n",
    "nltk_formatted_prediction = nltk_formatted_prediction[:37501]\n",
    "reference_annotations = reference_annotations[:37501]"
   ]
  },
  {
   "cell_type": "code",
   "execution_count": 11,
   "metadata": {
    "collapsed": false
   },
   "outputs": [
    {
     "name": "stdout",
     "output_type": "stream",
     "text": [
      "0.8999493346844084\n"
     ]
    }
   ],
   "source": [
    "nltk_accuracy_Wiki = accuracy(reference_annotations, nltk_formatted_prediction)\n",
    "print(nltk_accuracy_Wiki)"
   ]
  },
  {
   "cell_type": "code",
   "execution_count": 12,
   "metadata": {
    "collapsed": false
   },
   "outputs": [],
   "source": [
    "# for word in range(len(nltk_formatted_prediction)):\n",
    "#     print(\"NLTK Prediction: \", nltk_formatted_prediction[word], \"\\t\\tReference Annotations: \", reference_annotations[word])"
   ]
  },
  {
   "cell_type": "markdown",
   "metadata": {
    "collapsed": true
   },
   "source": [
    "----\n",
    "NER from FAQ Sample\n",
    "----"
   ]
  },
  {
   "cell_type": "code",
   "execution_count": 13,
   "metadata": {
    "collapsed": false
   },
   "outputs": [],
   "source": [
    "with open(\"./FAQ_Full.txt\") as f:\n",
    "    train_text = f.read()\n",
    "\n",
    "with open(\"./FAQ_Sample.txt\") as f:\n",
    "    sample_text = f.read()\n",
    "\n",
    "custom_sent_tokenizer = PunktSentenceTokenizer(train_text)    # Train custom tokenizer\n",
    "tokenized = custom_sent_tokenizer.tokenize(sample_text)       # Tokenize input\n",
    "\n",
    "def process_content():\n",
    "    try:\n",
    "        for i in tokenized[5:]:\n",
    "            words = nltk.word_tokenize(i)\n",
    "            tagged = nltk.pos_tag(words)        # Tag parts of speech for words\n",
    "            namedEnt = nltk.ne_chunk(tagged)    # Extract named entities\n",
    "            namedEnt.draw()                     # Visualize results tree\n",
    "    except Exception as e:\n",
    "        print(str(e))\n",
    "\n",
    "# process_content()"
   ]
  },
  {
   "cell_type": "markdown",
   "metadata": {
    "collapsed": true
   },
   "source": [
    "----\n",
    "Accuracy using manually annotated FAQ question dataset\n",
    "----"
   ]
  },
  {
   "cell_type": "code",
   "execution_count": 14,
   "metadata": {
    "collapsed": false
   },
   "outputs": [],
   "source": [
    "# Create unique words list to be manually annotated\n",
    "# import re\n",
    "# with open(\"./FAQ_small.txt\",'r') as f:\n",
    "#     anno_text = f.read()\n",
    "#     anno_text = re.sub('\\W+', ' ', anno_text)\n",
    "#     anno_text = anno_text.split()\n",
    "\n",
    "# len(anno_text)\n",
    "\n",
    "# # with open(\"./FAQ_anno_samp.txt\",'w') as f:\n",
    "# #     for word in anno_text:\n",
    "# #         f.write(word+' \\n')\n",
    "# #         f.truncate()"
   ]
  },
  {
   "cell_type": "code",
   "execution_count": 21,
   "metadata": {
    "collapsed": false
   },
   "outputs": [],
   "source": [
    "with open(\"./FAQ_anno_samp.txt\", encoding=\"utf8\") as f:\n",
    "    raw_annotations = f.read()\n",
    "\n",
    "split_annotations = raw_annotations.split()\n",
    "\n",
    "# Amend class annotations for consistency\n",
    "for n,i in enumerate(split_annotations):\n",
    "    if i == \"I-PER\":\n",
    "        split_annotations[n] = \"PERSON\"\n",
    "    if i == \"I-ORG\":\n",
    "        split_annotations[n] = \"ORGANIZATION\"\n",
    "    if i == \"I-LOC\":\n",
    "        split_annotations[n] = \"LOCATION\"\n",
    "    if i == \"I-MISC\":\n",
    "        split_annotations[n] = \"MISC\"\n",
    "\n",
    "# Group NE data into tuples\n",
    "def group(lst, n):\n",
    "    for i in range(0, len(lst), n):\n",
    "        val = lst[i:i+n]\n",
    "        if len(val) == n:\n",
    "            yield tuple(val)\n",
    "\n",
    "reference_annotations = list(group(split_annotations, 2))\n",
    "pure_tokens = split_annotations[::2]"
   ]
  },
  {
   "cell_type": "code",
   "execution_count": 22,
   "metadata": {
    "collapsed": false
   },
   "outputs": [],
   "source": [
    "tagged_words = nltk.pos_tag(pure_tokens)\n",
    "nltk_unformatted_prediction = nltk.ne_chunk(tagged_words)"
   ]
  },
  {
   "cell_type": "code",
   "execution_count": 23,
   "metadata": {
    "collapsed": false
   },
   "outputs": [],
   "source": [
    "# Convert prediction to multiline string and then to list (includes pos tags)\n",
    "multiline_string = nltk.chunk.tree2conllstr(nltk_unformatted_prediction)\n",
    "listed_pos_and_ne = multiline_string.split()\n",
    "\n",
    "# Delete pos tags and rename\n",
    "del listed_pos_and_ne[1::3]\n",
    "listed_ne = listed_pos_and_ne\n",
    "\n",
    "# Amend class annotations for consistency with reference_annotations\n",
    "for n,i in enumerate(listed_ne):\n",
    "    if i == \"B-PERSON\":\n",
    "        listed_ne[n] = \"PERSON\"\n",
    "    if i == \"I-PERSON\":\n",
    "        listed_ne[n] = \"PERSON\"    \n",
    "    if i == \"B-ORGANIZATION\":\n",
    "        listed_ne[n] = \"ORGANIZATION\"\n",
    "    if i == \"I-ORGANIZATION\":\n",
    "        listed_ne[n] = \"ORGANIZATION\"\n",
    "    if i == \"B-LOCATION\":\n",
    "        listed_ne[n] = \"LOCATION\"\n",
    "    if i == \"I-LOCATION\":\n",
    "        listed_ne[n] = \"LOCATION\"\n",
    "    if i == \"B-GPE\":\n",
    "        listed_ne[n] = \"LOCATION\"\n",
    "    if i == \"I-GPE\":\n",
    "        listed_ne[n] = \"LOCATION\"\n",
    "\n",
    "# Group prediction into tuples\n",
    "nltk_formatted_prediction = list(group(listed_ne, 2))"
   ]
  },
  {
   "cell_type": "code",
   "execution_count": 25,
   "metadata": {
    "collapsed": false
   },
   "outputs": [
    {
     "name": "stdout",
     "output_type": "stream",
     "text": [
      "0.9033457249070632\n"
     ]
    }
   ],
   "source": [
    "nltk_accuracy_FAQ = accuracy(reference_annotations, nltk_formatted_prediction)\n",
    "print(nltk_accuracy_FAQ)"
   ]
  },
  {
   "cell_type": "code",
   "execution_count": 24,
   "metadata": {
    "collapsed": false
   },
   "outputs": [],
   "source": [
    "# for word in range(len(nltk_formatted_prediction)):\n",
    "#     print(\"NLTK Prediction: \", nltk_formatted_prediction[word], \"\\t\\tReference Annotations: \", reference_annotations[word])"
   ]
  },
  {
   "cell_type": "markdown",
   "metadata": {
    "collapsed": true
   },
   "source": [
    "----\n",
    "Investigating NLTK's NE Chunker\n",
    "----"
   ]
  },
  {
   "cell_type": "code",
   "execution_count": 18,
   "metadata": {
    "collapsed": false
   },
   "outputs": [],
   "source": [
    "# Loads the serialized NEChunkParser object\n",
    "chunker = nltk.data.load('chunkers/maxent_ne_chunker/english_ace_multiclass.pickle')\n",
    "\n",
    "# The MaxEnt classifier\n",
    "maxEnt = chunker._tagger.classifier()\n",
    "\n",
    "def maxEnt_report():\n",
    "    maxEnt = chunker._tagger.classifier()\n",
    "    print(\"These are the labels used by the NLTK\\'s NEC:\\n\")\n",
    "    print(maxEnt.labels())\n",
    "    print(\"These are the most informative features found in the ACE corpora:\\n\")\n",
    "    print(maxEnt.show_most_informative_features())\n",
    "\n",
    "def ne_report(sentence, report_all=False):\n",
    "    tokens = nltk.word_tokenize(sentence)    # Tokenize input into words\n",
    "    tagged_tokens = nltk.pos_tag(tokens)     # Tag parts of speech for each word\n",
    "    tags = []\n",
    "    for i in range(len(tagged_tokens)):\n",
    "        featureset = chunker._tagger.feature_detector(tagged_tokens, i, tags)    # Return the feature detector that this tagger uses to generate featuresets for its classifier.\n",
    "        tag = chunker._tagger.choose_tag(tagged_tokens, i, tags)                 # Decide which tag should be used for the specified token and return that tag.\n",
    "        if tag != 'O' or report_all:\n",
    "            print ('\\nExplanation on the why the word \\'' + tagged_tokens[i][0] + '\\' was tagged:')\n",
    "            featureset = chunker._tagger.feature_detector(tagged_tokens, i, tags)\n",
    "            maxEnt.explain(featureset)    # Print a table showing the effect of each of the features in\n",
    "                                          # the given feature set, and how they combine to determine the\n",
    "                                          # probabilities of each label for that featureset.\n",
    "        tags.append(tag)"
   ]
  },
  {
   "cell_type": "code",
   "execution_count": 19,
   "metadata": {
    "collapsed": false
   },
   "outputs": [
    {
     "name": "stdout",
     "output_type": "stream",
     "text": [
      "These are the labels used by the NLTK's NEC:\n",
      "\n",
      "['I-GSP', 'B-LOCATION', 'B-GPE', 'I-ORGANIZATION', 'I-PERSON', 'O', 'I-FACILITY', 'I-LOCATION', 'B-PERSON', 'B-FACILITY', 'B-GSP', 'B-ORGANIZATION', 'I-GPE']\n",
      "These are the most informative features found in the ACE corpora:\n",
      "\n",
      "  10.125 bias==True and label is 'O'\n",
      "   6.631 suffix3=='day' and label is 'O'\n",
      "  -6.207 bias==True and label is 'I-GSP'\n",
      "   5.628 prevtag=='O' and label is 'O'\n",
      "  -4.740 shape=='upcase' and label is 'O'\n",
      "   4.106 shape+prevtag=='<function shape at 0x8bde0d4>+O' and label is 'O'\n",
      "  -3.994 shape=='mixedcase' and label is 'O'\n",
      "   3.992 pos+prevtag=='NNP+B-PERSON' and label is 'I-PERSON'\n",
      "   3.890 prevtag=='I-ORGANIZATION' and label is 'I-ORGANIZATION'\n",
      "   3.879 shape+prevtag=='<function shape at 0x8bde0d4>+I-ORGANIZATION' and label is 'I-ORGANIZATION'\n",
      "None\n"
     ]
    }
   ],
   "source": [
    "maxEnt_report()"
   ]
  },
  {
   "cell_type": "code",
   "execution_count": 20,
   "metadata": {
    "collapsed": false
   },
   "outputs": [
    {
     "name": "stdout",
     "output_type": "stream",
     "text": [
      "\n",
      "Explanation on the why the word 'California' was tagged:\n",
      "  Feature                                            B-GPE B-ORGAN       O   B-GSP\n",
      "  --------------------------------------------------------------------------------\n",
      "  prevtag=='O' (1)                                   3.767\n",
      "  shape=='upcase' (1)                                2.701\n",
      "  pos+prevtag=='NNP+O' (1)                           2.254\n",
      "  en-wordlist==False (1)                             2.095\n",
      "  label is 'B-GPE' (1)                              -2.005\n",
      "  bias==True (1)                                    -1.975\n",
      "  suffix3=='nia' (1)                                 1.700\n",
      "  prefix3=='cal' (1)                                 1.139\n",
      "  pos=='NNP' (1)                                     0.681\n",
      "  prevword=='a' (1)                                  0.641\n",
      "  nextpos=='nn' (1)                                  0.597\n",
      "  word=='California' (1)                             0.556\n",
      "  wordlen==10 (1)                                   -0.399\n",
      "  prevpos=='DT' (1)                                 -0.181\n",
      "  word+nextpos=='california+nn' (1)                  0.180\n",
      "  nextword=='law' (1)                                0.042\n",
      "  prevtag=='O' (1)                                           3.389\n",
      "  pos+prevtag=='NNP+O' (1)                                   1.725\n",
      "  prevword=='a' (1)                                          1.093\n",
      "  bias==True (1)                                             0.955\n",
      "  en-wordlist==False (1)                                     0.837\n",
      "  label is 'B-ORGANIZATION' (1)                              0.718\n",
      "  wordlen==10 (1)                                            0.605\n",
      "  prevpos=='DT' (1)                                         -0.494\n",
      "  prefix3=='cal' (1)                                        -0.474\n",
      "  suffix3=='nia' (1)                                        -0.367\n",
      "  word=='California' (1)                                    -0.278\n",
      "  nextpos=='nn' (1)                                         -0.214\n",
      "  pos=='NNP' (1)                                             0.174\n",
      "  shape=='upcase' (1)                                       -0.084\n",
      "  nextword=='law' (1)                                       -0.013\n",
      "  bias==True (1)                                                    10.125\n",
      "  prevtag=='O' (1)                                                   5.628\n",
      "  shape=='upcase' (1)                                               -4.740\n",
      "  label is 'O' (1)                                                  -1.075\n",
      "  pos=='NNP' (1)                                                    -1.024\n",
      "  en-wordlist==False (1)                                             0.698\n",
      "  prefix3=='cal' (1)                                                -0.642\n",
      "  prevpos=='DT' (1)                                                  0.585\n",
      "  wordlen==10 (1)                                                   -0.556\n",
      "  suffix3=='nia' (1)                                                -0.528\n",
      "  nextpos=='nn' (1)                                                 -0.488\n",
      "  prevword=='a' (1)                                                 -0.360\n",
      "  nextword=='law' (1)                                               -0.199\n",
      "  word=='California' (1)                                            -0.146\n",
      "  pos+prevtag=='NNP+O' (1)                                           0.011\n",
      "  prevtag=='O' (1)                                                           2.925\n",
      "  pos+prevtag=='NNP+O' (1)                                                   2.213\n",
      "  shape=='upcase' (1)                                                        0.929\n",
      "  en-wordlist==False (1)                                                     0.891\n",
      "  wordlen==10 (1)                                                           -0.749\n",
      "  bias==True (1)                                                            -0.592\n",
      "  label is 'B-GSP' (1)                                                      -0.565\n",
      "  prevword=='a' (1)                                                          0.487\n",
      "  pos=='NNP' (1)                                                             0.393\n",
      "  nextpos=='nn' (1)                                                          0.350\n",
      "  prevpos=='DT' (1)                                                         -0.299\n",
      "  prefix3=='cal' (1)                                                         0.219\n",
      "  suffix3=='nia' (1)                                                         0.173\n",
      "  nextword=='law' (1)                                                        0.066\n",
      "  word=='California' (1)                                                     0.052\n",
      "  ---------------------------------------------------------------------------------\n",
      "  TOTAL:                                            11.793   7.570   7.289   6.495\n",
      "  PROBS:                                             0.855   0.046   0.038   0.022\n",
      "\n",
      "Explanation on the why the word 'CSU' was tagged:\n",
      "  Feature                                          B-ORGAN       O   B-GPE   B-GSP\n",
      "  --------------------------------------------------------------------------------\n",
      "  prevtag=='O' (1)                                   3.389\n",
      "  shape=='mixedcase' (1)                             2.569\n",
      "  pos+prevtag=='NNP+O' (1)                           1.725\n",
      "  bias==True (1)                                     0.955\n",
      "  en-wordlist==False (1)                             0.837\n",
      "  label is 'B-ORGANIZATION' (1)                      0.718\n",
      "  wordlen==3 (1)                                     0.333\n",
      "  prevpos=='CC' (1)                                  0.309\n",
      "  nextpos=='nn' (1)                                 -0.214\n",
      "  pos=='NNP' (1)                                     0.174\n",
      "  prevword=='and' (1)                                0.161\n",
      "  bias==True (1)                                            10.125\n",
      "  prevtag=='O' (1)                                           5.628\n",
      "  shape=='mixedcase' (1)                                    -3.994\n",
      "  label is 'O' (1)                                          -1.075\n",
      "  pos=='NNP' (1)                                            -1.024\n",
      "  prevpos=='CC' (1)                                         -0.882\n",
      "  en-wordlist==False (1)                                     0.698\n",
      "  prevword=='and' (1)                                       -0.524\n",
      "  nextpos=='nn' (1)                                         -0.488\n",
      "  wordlen==3 (1)                                             0.071\n",
      "  pos+prevtag=='NNP+O' (1)                                   0.011\n",
      "  nextword=='degree' (1)                                     0.001\n",
      "  prevtag=='O' (1)                                                   3.767\n",
      "  pos+prevtag=='NNP+O' (1)                                           2.254\n",
      "  en-wordlist==False (1)                                             2.095\n",
      "  label is 'B-GPE' (1)                                              -2.005\n",
      "  bias==True (1)                                                    -1.975\n",
      "  shape=='mixedcase' (1)                                             1.874\n",
      "  pos=='NNP' (1)                                                     0.681\n",
      "  wordlen==3 (1)                                                    -0.636\n",
      "  nextpos=='nn' (1)                                                  0.597\n",
      "  prevpos=='CC' (1)                                                  0.356\n",
      "  prevword=='and' (1)                                                0.271\n",
      "  prevtag=='O' (1)                                                           2.925\n",
      "  pos+prevtag=='NNP+O' (1)                                                   2.213\n",
      "  en-wordlist==False (1)                                                     0.891\n",
      "  shape=='mixedcase' (1)                                                     0.802\n",
      "  wordlen==3 (1)                                                            -0.700\n",
      "  bias==True (1)                                                            -0.592\n",
      "  label is 'B-GSP' (1)                                                      -0.565\n",
      "  prevword=='and' (1)                                                        0.442\n",
      "  pos=='NNP' (1)                                                             0.393\n",
      "  nextpos=='nn' (1)                                                          0.350\n",
      "  prevpos=='CC' (1)                                                          0.148\n",
      "  ---------------------------------------------------------------------------------\n",
      "  TOTAL:                                            10.953   8.547   7.280   6.309\n",
      "  PROBS:                                             0.739   0.139   0.058   0.030\n"
     ]
    }
   ],
   "source": [
    "ne_report('STAR act, is a California law designed to improve the interface between community college programs and CSU degree programs.')"
   ]
  },
  {
   "cell_type": "markdown",
   "metadata": {},
   "source": [
    "Features are used in NLTK's ne_chunk\n",
    "----\n",
    "\n",
    "The shape of the word (e.g., does it contain numbers? does it begin with a capital letter?)\n",
    "\n",
    "The length of the word\n",
    "\n",
    "The first three letters of the word\n",
    "\n",
    "The last three letters of the word\n",
    "\n",
    "The POS tag of the word\n",
    "\n",
    "The word itself\n",
    "\n",
    "Does the word exist in an English dictionary?\n",
    "\n",
    "The tag of the word that precedes this word (i.e., was the previous word identified as a NE)\n",
    "\n",
    "The POS tag of the preceding word\n",
    "\n",
    "The POS tag of the following word\n",
    "\n",
    "The word that precedes this word\n",
    "\n",
    "The word that follows this word\n",
    "\n",
    "The word combined with the POS tag of the following word\n",
    "\n",
    "The POS tag of the word combined with the tag of the preceding word\n",
    "\n",
    "The shape of the word combined with the tag of the preceding word"
   ]
  },
  {
   "cell_type": "markdown",
   "metadata": {
    "collapsed": true
   },
   "source": [
    "----\n",
    "Using Stanford NERTagger\n",
    "----"
   ]
  },
  {
   "cell_type": "code",
   "execution_count": 15,
   "metadata": {
    "collapsed": false
   },
   "outputs": [],
   "source": [
    "import os\n",
    "os.environ['CLASSPATH'] = \"./stanford-ner/\"\n",
    "os.environ['STANFORD_MODELS'] = \"./stanford-ner/classifiers/\"\n",
    "\n",
    "# need this when running on win10\n",
    "os.environ['JAVAHOME'] = \"C:\\Program Files\\Java\\jdk1.8.0_92\\\\bin\""
   ]
  },
  {
   "cell_type": "code",
   "execution_count": 16,
   "metadata": {
    "collapsed": false
   },
   "outputs": [],
   "source": [
    "from nltk.tag import StanfordNERTagger\n",
    "st = StanfordNERTagger('./stanford-ner/classifiers/english.conll.4class.distsim.crf.ser.gz')"
   ]
  },
  {
   "cell_type": "code",
   "execution_count": 17,
   "metadata": {
    "collapsed": false
   },
   "outputs": [
    {
     "name": "stdout",
     "output_type": "stream",
     "text": [
      "[('STAR', 'O'), ('act', 'O'), (',', 'O'), ('is', 'O'), ('a', 'O'), ('California', 'LOCATION'), ('law', 'O'), ('designed', 'O'), ('to', 'O'), ('improve', 'O'), ('the', 'O'), ('interface', 'O'), ('between', 'O'), ('community', 'O'), ('college', 'O'), ('programs', 'O'), ('and', 'O'), ('CSU', 'ORGANIZATION'), ('degree', 'O'), ('programs', 'O'), ('.', 'O')]\n"
     ]
    }
   ],
   "source": [
    "from nltk import word_tokenize\n",
    "text = 'STAR act, is a California law designed to improve the interface between community college programs and CSU degree programs.'\n",
    "\n",
    "tokenized_text = word_tokenize(text)\n",
    "classified_text = st.tag(tokenized_text)\n",
    "\n",
    "print(classified_text)"
   ]
  },
  {
   "cell_type": "code",
   "execution_count": 24,
   "metadata": {
    "collapsed": false
   },
   "outputs": [
    {
     "name": "stdout",
     "output_type": "stream",
     "text": [
      "0.9150689314951601\n"
     ]
    }
   ],
   "source": [
    "# Stanford NERTagger accuracy for wikigold dataset\n",
    "\n",
    "with open(\"./wiki_gold.txt\", encoding=\"utf8\") as f:\n",
    "    raw_annotations = f.read()\n",
    "\n",
    "split_annotations = raw_annotations.split()\n",
    "\n",
    "# Amend class annotations to reflect Stanford's NERTagger\n",
    "for n,i in enumerate(split_annotations):\n",
    "    if i == \"I-PER\":\n",
    "        split_annotations[n] = \"PERSON\"\n",
    "    if i == \"I-ORG\":\n",
    "        split_annotations[n] = \"ORGANIZATION\"\n",
    "    if i == \"I-LOC\":\n",
    "        split_annotations[n] = \"LOCATION\"\n",
    "\n",
    "# Group NE data into tuples\n",
    "def group(lst, n):\n",
    "    for i in range(0, len(lst), n):\n",
    "        val = lst[i:i+n]\n",
    "        if len(val) == n:\n",
    "            yield tuple(val)\n",
    "\n",
    "reference_annotations = list(group(split_annotations, 2))\n",
    "pure_tokens = split_annotations[::2]\n",
    "\n",
    "stanford_prediction = st.tag(pure_tokens)\n",
    "stanford_prediction = stanford_prediction[:37501]\n",
    "reference_annotations = reference_annotations[:37501]\n",
    "stanford_accuracy_Wiki = accuracy(reference_annotations, stanford_prediction)\n",
    "print(stanford_accuracy_Wiki)\n",
    "\n",
    "# print(len(reference_annotations))\n",
    "# print(len(stanford_prediction))"
   ]
  },
  {
   "cell_type": "code",
   "execution_count": 18,
   "metadata": {
    "collapsed": false
   },
   "outputs": [
    {
     "name": "stdout",
     "output_type": "stream",
     "text": [
      "0.9033457249070632\n"
     ]
    }
   ],
   "source": [
    "# Stanford NERTagger accuracy for manually annotated FAQ dataset\n",
    "\n",
    "with open(\"./FAQ_anno_samp.txt\", encoding=\"utf8\") as f:\n",
    "    raw_annotations = f.read()\n",
    "\n",
    "split_annotations = raw_annotations.split()\n",
    "\n",
    "# Amend class annotations for consistency\n",
    "for n,i in enumerate(split_annotations):\n",
    "    if i == \"I-PER\":\n",
    "        split_annotations[n] = \"PERSON\"\n",
    "    if i == \"I-ORG\":\n",
    "        split_annotations[n] = \"ORGANIZATION\"\n",
    "    if i == \"I-LOC\":\n",
    "        split_annotations[n] = \"LOCATION\"\n",
    "    if i == \"I-MISC\":\n",
    "        split_annotations[n] = \"MISC\"\n",
    "\n",
    "# Group NE data into tuples\n",
    "def group(lst, n):\n",
    "    for i in range(0, len(lst), n):\n",
    "        val = lst[i:i+n]\n",
    "        if len(val) == n:\n",
    "            yield tuple(val)\n",
    "\n",
    "reference_annotations = list(group(split_annotations, 2))\n",
    "pure_tokens = split_annotations[::2]\n",
    "\n",
    "stanford_prediction = st.tag(pure_tokens)\n",
    "stanford_prediction = stanford_prediction\n",
    "stanford_accuracy_FAQ = accuracy(reference_annotations, stanford_prediction)\n",
    "print(stanford_accuracy_FAQ)\n",
    "\n",
    "# print(len(reference_annotations))\n",
    "# print(len(stanford_prediction))"
   ]
  },
  {
   "cell_type": "code",
   "execution_count": 25,
   "metadata": {
    "collapsed": false
   },
   "outputs": [],
   "source": [
    "# for word in range(len(stanford_prediction)):\n",
    "#     print(\"Stanford Prediction: \", stanford_prediction[word], \"\\tReference Annotations: \", reference_annotations[word])"
   ]
  },
  {
   "cell_type": "markdown",
   "metadata": {},
   "source": [
    "----\n",
    "Visual comparison\n",
    "----"
   ]
  },
  {
   "cell_type": "code",
   "execution_count": 26,
   "metadata": {
    "collapsed": false
   },
   "outputs": [],
   "source": [
    "import numpy as np\n",
    "import matplotlib.pyplot as plt\n",
    "from matplotlib import style\n",
    "\n",
    "N = 1\n",
    "ind = np.arange(N)  # the x locations for the groups\n",
    "width = 0.35       # the width of the bars\n",
    "\n",
    "fig, ax = plt.subplots()\n",
    "\n",
    "stanford_percentage_Wiki = stanford_accuracy_Wiki * 100\n",
    "rects1 = ax.bar(ind, stanford_percentage_Wiki, width, color='b')\n",
    "\n",
    "nltk_percentage_Wiki = nltk_accuracy_Wiki * 100\n",
    "rects2 = ax.bar(ind+width, nltk_percentage_Wiki, width, color='g')\n",
    "\n",
    "stanford_percentage_FAQ = stanford_accuracy_FAQ * 100\n",
    "rects3 = ax.bar(ind+width+width, stanford_percentage_FAQ, width, color='b')\n",
    "\n",
    "nltk_percentage_FAQ = nltk_accuracy_FAQ * 100\n",
    "rects4 = ax.bar(ind+width+width+width, nltk_percentage_FAQ, width, color='g')\n",
    "\n",
    "# add some text for labels, title and axes ticks\n",
    "ax.set_xlabel('Wiki_Gold                                FAQ_Sample')\n",
    "ax.set_ylabel('Accuracy (by percentage)')\n",
    "ax.set_title('NER Classifier Accuracy')\n",
    "ax.set_xticks(ind+width)\n",
    "ax.set_xticklabels( ('') )\n",
    "\n",
    "ax.legend( (rects1[0], rects2[0]), ('Stanford', 'NLTK'), bbox_to_anchor=(1.05, 1), loc=4, borderaxespad=0. )\n",
    "\n",
    "def autolabel(rects):\n",
    "    # attach some text labels\n",
    "    for rect in rects:\n",
    "        height = rect.get_height()\n",
    "        ax.text(rect.get_x()+rect.get_width()/2., 1.02*height, '%10.2f' % float(height),\n",
    "                ha='center', va='bottom')\n",
    "\n",
    "autolabel(rects1)\n",
    "autolabel(rects2)\n",
    "autolabel(rects3)\n",
    "autolabel(rects4)\n",
    "\n",
    "plt.show()"
   ]
  },
  {
   "cell_type": "code",
   "execution_count": null,
   "metadata": {
    "collapsed": true
   },
   "outputs": [],
   "source": []
  }
 ],
 "metadata": {
  "anaconda-cloud": {},
  "kernelspec": {
   "display_name": "Python [py35]",
   "language": "python",
   "name": "Python [py35]"
  },
  "language_info": {
   "codemirror_mode": {
    "name": "ipython",
    "version": 3
   },
   "file_extension": ".py",
   "mimetype": "text/x-python",
   "name": "python",
   "nbconvert_exporter": "python",
   "pygments_lexer": "ipython3",
   "version": "3.5.2"
  }
 },
 "nbformat": 4,
 "nbformat_minor": 0
}
